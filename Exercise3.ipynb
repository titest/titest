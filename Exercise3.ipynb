{
 "cells": [
  {
   "cell_type": "code",
   "execution_count": null,
   "metadata": {
    "collapsed": true
   },
   "outputs": [],
   "source": [
    "import pandas as pd"
   ]
  },
  {
   "cell_type": "code",
   "execution_count": null,
   "metadata": {
    "collapsed": false
   },
   "outputs": [],
   "source": [
    "cols = ['Date', 'Destination']\n",
    "parser = lambda x: pd.to_datetime(x, format='%Y-%m-%d', errors='coerce')\n",
    "main_df = pd.read_csv('./searches.csv', sep='^', encoding='utf-8', usecols=cols, parse_dates=['Date'], date_parser=parser, index_col=0, chunksize=100000, iterator = True)"
   ]
  },
  {
   "cell_type": "code",
   "execution_count": null,
   "metadata": {
    "collapsed": false
   },
   "outputs": [],
   "source": [
    "# DF that accumulates the counters for each city\n",
    "gcount_MAD = None\n",
    "gcount_BCN = None\n",
    "gcount_AGP = None\n",
    "# Process dataframe in chunks to avoid out of memory error\n",
    "for l, searches_df in enumerate(main_df):\n",
    "    #print(l)\n",
    "    grouped_MAD = searches_df[(searches_df.Destination == 'MAD') | (searches_df.Destination == 'TOJ')]\n",
    "    grouped_BCN = searches_df[searches_df.Destination == 'BCN']\n",
    "    grouped_AGP = searches_df[searches_df.Destination == 'AGP']   \n",
    "\n",
    "    count_MAD = grouped_MAD.groupby(pd.TimeGrouper(\"M\")).count()\n",
    "    if gcount_MAD is None:\n",
    "        gcount_MAD = count_MAD\n",
    "    else:\n",
    "        gcount_MAD = gcount_MAD.add(count_MAD, fill_value=0)\n",
    "            \n",
    "    count_BCN = grouped_BCN.groupby(pd.TimeGrouper(\"M\")).count()\n",
    "    if gcount_BCN is None:\n",
    "        gcount_BCN = count_BCN\n",
    "    else:\n",
    "        gcount_BCN = gcount_BCN.add(count_BCN, fill_value=0)\n",
    "            \n",
    "    count_AGP = grouped_AGP.groupby(pd.TimeGrouper(\"M\")).count()\n",
    "    if gcount_AGP is None:\n",
    "        gcount_AGP = count_AGP\n",
    "    else:\n",
    "        gcount_AGP = gcount_AGP.add(count_AGP, fill_value=0)\n",
    "    \n"
   ]
  },
  {
   "cell_type": "code",
   "execution_count": null,
   "metadata": {
    "collapsed": false
   },
   "outputs": [],
   "source": [
    "gcount_MAD.rename(columns={'Destination': 'MAD'}, inplace=True)\n",
    "gcount_BCN.rename(columns={'Destination': 'BCN'}, inplace=True)\n",
    "gcount_AGP.rename(columns={'Destination': 'AGP'}, inplace=True)"
   ]
  },
  {
   "cell_type": "code",
   "execution_count": null,
   "metadata": {
    "collapsed": false
   },
   "outputs": [],
   "source": [
    "gcount_all = pd.concat([gcount_MAD, gcount_BCN, gcount_AGP], axis=1)"
   ]
  },
  {
   "cell_type": "code",
   "execution_count": null,
   "metadata": {
    "collapsed": false
   },
   "outputs": [],
   "source": [
    "%matplotlib inline\n",
    "gcount_all.plot()"
   ]
  },
  {
   "cell_type": "code",
   "execution_count": null,
   "metadata": {
    "collapsed": true
   },
   "outputs": [],
   "source": []
  }
 ],
 "metadata": {
  "anaconda-cloud": {},
  "kernelspec": {
   "display_name": "Python [Root]",
   "language": "python",
   "name": "Python [Root]"
  },
  "language_info": {
   "codemirror_mode": {
    "name": "ipython",
    "version": 3
   },
   "file_extension": ".py",
   "mimetype": "text/x-python",
   "name": "python",
   "nbconvert_exporter": "python",
   "pygments_lexer": "ipython3",
   "version": "3.5.1"
  }
 },
 "nbformat": 4,
 "nbformat_minor": 0
}
