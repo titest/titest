{
 "cells": [
  {
   "cell_type": "code",
   "execution_count": 1,
   "metadata": {
    "collapsed": true
   },
   "outputs": [],
   "source": [
    "import pandas as pd"
   ]
  },
  {
   "cell_type": "code",
   "execution_count": 2,
   "metadata": {
    "collapsed": false
   },
   "outputs": [],
   "source": [
    "cols = ['Date', 'Destination']\n",
    "parser = lambda x: pd.to_datetime(x, format='%Y-%m-%d', errors='coerce')\n",
    "searches_df = pd.read_csv('./searches.csv', sep='^', usecols=cols, parse_dates=['Date'], date_parser=parser)"
   ]
  },
  {
   "cell_type": "code",
   "execution_count": 3,
   "metadata": {
    "collapsed": false
   },
   "outputs": [
    {
     "data": {
      "text/html": [
       "<div>\n",
       "<table border=\"1\" class=\"dataframe\">\n",
       "  <thead>\n",
       "    <tr style=\"text-align: right;\">\n",
       "      <th></th>\n",
       "      <th>Date</th>\n",
       "      <th>Destination</th>\n",
       "    </tr>\n",
       "  </thead>\n",
       "  <tbody>\n",
       "    <tr>\n",
       "      <th>count</th>\n",
       "      <td>20390165</td>\n",
       "      <td>20390165</td>\n",
       "    </tr>\n",
       "    <tr>\n",
       "      <th>unique</th>\n",
       "      <td>359</td>\n",
       "      <td>3068</td>\n",
       "    </tr>\n",
       "    <tr>\n",
       "      <th>top</th>\n",
       "      <td>2013-01-01 00:00:00</td>\n",
       "      <td>BKK</td>\n",
       "    </tr>\n",
       "    <tr>\n",
       "      <th>freq</th>\n",
       "      <td>57297</td>\n",
       "      <td>477093</td>\n",
       "    </tr>\n",
       "    <tr>\n",
       "      <th>first</th>\n",
       "      <td>2013-01-01 00:00:00</td>\n",
       "      <td>NaN</td>\n",
       "    </tr>\n",
       "    <tr>\n",
       "      <th>last</th>\n",
       "      <td>2013-12-25 00:00:00</td>\n",
       "      <td>NaN</td>\n",
       "    </tr>\n",
       "  </tbody>\n",
       "</table>\n",
       "</div>"
      ],
      "text/plain": [
       "                       Date Destination\n",
       "count              20390165    20390165\n",
       "unique                  359        3068\n",
       "top     2013-01-01 00:00:00         BKK\n",
       "freq                  57297      477093\n",
       "first   2013-01-01 00:00:00         NaN\n",
       "last    2013-12-25 00:00:00         NaN"
      ]
     },
     "execution_count": 3,
     "metadata": {},
     "output_type": "execute_result"
    }
   ],
   "source": [
    "searches_df.describe()"
   ]
  },
  {
   "cell_type": "code",
   "execution_count": 4,
   "metadata": {
    "collapsed": false
   },
   "outputs": [],
   "source": [
    "# Consider 2 airports for Madrid: MAD and TOJ\n",
    "searches_df.loc[searches_df.Destination == 'TOJ', 'Destination'] = 'MAD'\n",
    "searches_filtered = searches_df[searches_df.Date.notnull() & searches_df.Destination.notnull() & ((searches_df.Destination == 'MAD') | (searches_df.Destination == 'BCN') | (searches_df.Destination == 'AGP'))]"
   ]
  },
  {
   "cell_type": "code",
   "execution_count": 5,
   "metadata": {
    "collapsed": false
   },
   "outputs": [
    {
     "data": {
      "text/plain": [
       "Date        Destination\n",
       "2013-01-31  AGP             9633\n",
       "            BCN            29469\n",
       "            MAD            24258\n",
       "2013-02-28  AGP             8379\n",
       "            BCN            28329\n",
       "            MAD            22800\n",
       "2013-03-31  AGP            10659\n",
       "            BCN            30552\n",
       "            MAD            24681\n",
       "2013-04-30  AGP             8265\n",
       "            BCN            31236\n",
       "            MAD            25251\n",
       "2013-05-31  AGP            10830\n",
       "            BCN            28728\n",
       "            MAD            26334\n",
       "2013-06-30  AGP             7923\n",
       "            BCN            26505\n",
       "            MAD            22800\n",
       "2013-07-31  AGP             8892\n",
       "            BCN            29241\n",
       "            MAD            22971\n",
       "2013-08-31  AGP             7866\n",
       "            BCN            27075\n",
       "            MAD            21888\n",
       "2013-09-30  AGP             8151\n",
       "            BCN            23427\n",
       "            MAD            21204\n",
       "2013-10-31  AGP             6499\n",
       "            BCN            20276\n",
       "            MAD            22294\n",
       "2013-11-30  AGP             6384\n",
       "            BCN            19824\n",
       "            MAD            20272\n",
       "2013-12-31  AGP             3696\n",
       "            BCN            15400\n",
       "            MAD            14504\n",
       "Name: Destination, dtype: int64"
      ]
     },
     "execution_count": 5,
     "metadata": {},
     "output_type": "execute_result"
    }
   ],
   "source": [
    "searches_grouped = searches_filtered.set_index('Date').groupby([pd.TimeGrouper('M'), 'Destination'])['Destination'].count()\n",
    "searches_grouped"
   ]
  },
  {
   "cell_type": "code",
   "execution_count": 7,
   "metadata": {
    "collapsed": false
   },
   "outputs": [
    {
     "data": {
      "image/png": "[encoded data removed]",
      "text/plain": [
       "<matplotlib.figure.Figure at 0x2da16d68>"
      ]
     },
     "metadata": {},
     "output_type": "display_data"
    }
   ],
   "source": [
    "%matplotlib inline\n",
    "plot_obj = searches_grouped.unstack().plot(title='Pax arrivals')"
   ]
  },
  {
   "cell_type": "code",
   "execution_count": null,
   "metadata": {
    "collapsed": true
   },
   "outputs": [],
   "source": []
  }
 ],
 "metadata": {
  "anaconda-cloud": {},
  "kernelspec": {
   "display_name": "Python [Root]",
   "language": "python",
   "name": "Python [Root]"
  },
  "language_info": {
   "codemirror_mode": {
    "name": "ipython",
    "version": 3
   },
   "file_extension": ".py",
   "mimetype": "text/x-python",
   "name": "python",
   "nbconvert_exporter": "python",
   "pygments_lexer": "ipython3",
   "version": "3.5.1"
  }
 },
 "nbformat": 4,
 "nbformat_minor": 0
}
